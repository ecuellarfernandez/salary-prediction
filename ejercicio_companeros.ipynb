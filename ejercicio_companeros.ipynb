{
 "cells": [
  {
   "cell_type": "code",
   "execution_count": null,
   "metadata": {},
   "outputs": [],
   "source": [
    "# Notebook de Ejercicio para Predicción de Salarios con RandomForest\n",
    "\n",
    "# Importar las librerías necesarias\n",
    "import pandas as pd\n",
    "from sklearn.model_selection import train_test_split\n",
    "from sklearn.preprocessing import LabelEncoder\n",
    "from sklearn.ensemble import RandomForestRegressor\n",
    "from sklearn.metrics import mean_squared_error\n",
    "import numpy as np\n",
    "import matplotlib.pyplot as plt\n",
    "\n",
    "# Cargar el dataset\n",
    "data = pd.read_csv('/mnt/data/salary_prediction_data.csv')"
   ]
  },
  {
   "cell_type": "code",
   "execution_count": null,
   "metadata": {},
   "outputs": [],
   "source": [
    "# Paso 1: Revisar datos nulos\n",
    "# Utilizamos el método isnull().sum() para contar la cantidad de valores nulos en cada columna.\n",
    "# Es importante manejar cualquier dato faltante antes de entrenar el modelo.\n",
    "\n",
    "print(\"Paso 1: Revisar datos nulos\")\n",
    "print(data.___())  # Completa este paso"
   ]
  },
  {
   "cell_type": "code",
   "execution_count": null,
   "metadata": {},
   "outputs": [],
   "source": [
    "# Paso 2: Codificar variables categóricas\n",
    "# Las variables categóricas son convertidas en valores numéricos usando LabelEncoder.\n",
    "# Esto es necesario porque los algoritmos de machine learning no pueden trabajar directamente con datos categóricos.\n",
    "\n",
    "print(\"\\nPaso 2: Codificar variables categóricas\")\n",
    "label_encoders = {}\n",
    "categorical_columns = ['Education', 'Location', 'Job_Title', 'Gender']\n",
    "for column in categorical_columns:\n",
    "    label_encoders[column] = LabelEncoder()\n",
    "    data[column] = label_encoders[column].___(data[column])  # Completa este paso\n",
    "print(data.head())"
   ]
  },
  {
   "cell_type": "code",
   "execution_count": null,
   "metadata": {},
   "outputs": [],
   "source": [
    "# Paso 3: Dividir los datos en características (X) y objetivo (y)\n",
    "# Separar los datos en variables independientes (X) y la variable dependiente (y).\n",
    "\n",
    "print(\"\\nPaso 3: Dividir los datos en características (X) y objetivo (y)\")\n",
    "X = data.___('Salary', axis=1)  # Completa este paso\n",
    "y = data.___  # Completa este paso"
   ]
  },
  {
   "cell_type": "code",
   "execution_count": null,
   "metadata": {},
   "outputs": [],
   "source": [
    "# Paso 4: Dividir el conjunto de datos en conjunto de entrenamiento y prueba\n",
    "# Utilizamos train_test_split para dividir los datos en un 80% para entrenamiento y un 20% para prueba.\n",
    "\n",
    "print(\"\\nPaso 4: Dividir el conjunto de datos en conjunto de entrenamiento y prueba\")\n",
    "X_train, X_test, y_train, y_test = ___(X, y, test_size=0.2, random_state=42)  # Completa este paso\n",
    "print(X_train.head())\n",
    "print(y_train.head())"
   ]
  },
  {
   "cell_type": "code",
   "execution_count": null,
   "metadata": {},
   "outputs": [],
   "source": [
    "# Paso 5: Crear y entrenar el modelo\n",
    "# Creamos una instancia del modelo RandomForestRegressor con 100 árboles y entrenamos el modelo.\n",
    "\n",
    "print(\"\\nPaso 5: Crear y entrenar el modelo\")\n",
    "model = ___(n_estimators=100, random_state=42)  # Completa este paso\n",
    "model.___(X_train, y_train)  # Completa este paso"
   ]
  },
  {
   "cell_type": "code",
   "execution_count": null,
   "metadata": {},
   "outputs": [],
   "source": [
    "# Paso 6: Predecir en el conjunto de prueba\n",
    "# Utilizamos el modelo entrenado para hacer predicciones sobre el conjunto de prueba.\n",
    "\n",
    "print(\"\\nPaso 6: Predecir en el conjunto de prueba\")\n",
    "y_pred = model.___(X_test)  # Completa este paso"
   ]
  },
  {
   "cell_type": "code",
   "execution_count": null,
   "metadata": {},
   "outputs": [],
   "source": [
    "# Paso 7: Calcular el error cuadrático medio\n",
    "# Evaluamos el rendimiento del modelo calculando el mean_squared_error y luego la raíz cuadrada del MSE (RMSE).\n",
    "\n",
    "print(\"\\nPaso 7: Calcular el error cuadrático medio\")\n",
    "mse = ___(y_test, y_pred)  # Completa este paso\n",
    "rmse = np.___(mse)  # Completa este paso\n",
    "print(f\"Root Mean Squared Error: {rmse}\")"
   ]
  },
  {
   "cell_type": "code",
   "execution_count": null,
   "metadata": {},
   "outputs": [],
   "source": [
    "# Paso 8: Visualizar las primeras predicciones\n",
    "# Creamos un DataFrame que contiene los valores reales y predichos para las primeras observaciones del conjunto de prueba.\n",
    "\n",
    "print(\"\\nPaso 8: Visualizar las primeras predicciones\")\n",
    "results = pd.DataFrame({'Actual': y_test, 'Predicted': y_pred})\n",
    "print(results.___())  # Completa este paso"
   ]
  },
  {
   "cell_type": "code",
   "execution_count": null,
   "metadata": {},
   "outputs": [],
   "source": [
    "# Paso 9: Gráfico de dispersión para comparar los valores reales y predichos\n",
    "# Creamos un gráfico de dispersión para visualizar la relación entre los valores reales y los valores predichos.\n",
    "\n",
    "print(\"\\nPaso 9: Gráfico de dispersión para comparar los valores reales y predichos\")\n",
    "plt.figure(figsize=(10, 6))\n",
    "plt.___(y_test, y_pred, color='blue')  # Completa este paso\n",
    "plt.plot([y_test.min(), y_test.max()], [y_test.min(), y_test.max()], 'k--', lw=3)\n",
    "plt.xlabel('Actual')\n",
    "plt.ylabel('Predicted')\n",
    "plt.title('Actual vs Predicted Salary')\n",
    "plt.___()  # Completa este paso"
   ]
  }
 ],
 "metadata": {
  "kernelspec": {
   "display_name": "Python 3",
   "language": "python",
   "name": "python3"
  },
  "language_info": {
   "codemirror_mode": {
    "name": "ipython",
    "version": 3
   },
   "file_extension": ".py",
   "mimetype": "text/x-python",
   "name": "python",
   "nbconvert_exporter": "python",
   "pygments_lexer": "ipython3",
   "version": "3.12.2"
  }
 },
 "nbformat": 4,
 "nbformat_minor": 2
}
