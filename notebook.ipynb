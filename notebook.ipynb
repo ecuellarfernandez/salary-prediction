{
 "cells": [
  {
   "cell_type": "code",
   "execution_count": null,
   "metadata": {},
   "outputs": [],
   "source": [
    "import pandas as pd\n",
    "import numpy as np\n",
    "import matplotlib.pyplot as plt\n",
    "from sklearn.ensemble import RandomForestRegressor\n",
    "\n",
    "# Cargar los datos\n",
    "data = pd.read_csv('dataset/salary_prediction_data.csv')\n",
    "\n",
    "# Mostrar los primeros registros\n",
    "print(data.head())\n",
    "\n",
    "# Mostrar tamaño del dataset\n",
    "print(data.shape)\n",
    "\n",
    "#Revisar datos nulos\n",
    "print(data.isnull().sum())\n",
    "columnas_categorias = ['Education', 'Location', 'Job_Title', 'Gender']"
   ]
  }
 ],
 "metadata": {
  "kernelspec": {
   "display_name": "Python 3",
   "language": "python",
   "name": "python3"
  },
  "language_info": {
   "name": "python",
   "version": "3.12.2"
  }
 },
 "nbformat": 4,
 "nbformat_minor": 2
}
