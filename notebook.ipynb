{
 "cells": [
  {
   "cell_type": "code",
   "execution_count": 4,
   "metadata": {},
   "outputs": [
    {
     "name": "stdout",
     "output_type": "stream",
     "text": [
      "     Education  Experience  Location Job_Title  Age  Gender         Salary\n",
      "0  High School           8     Urban   Manager   63    Male   84620.053665\n",
      "1          PhD          11  Suburban  Director   59    Male  142591.255894\n",
      "2     Bachelor          28  Suburban   Manager   61  Female   97800.255404\n",
      "3  High School          29     Rural  Director   45    Male   96834.671282\n",
      "4          PhD          25     Urban   Analyst   26  Female  132157.786175\n",
      "(1000, 7)\n",
      "Education     0\n",
      "Experience    0\n",
      "Location      0\n",
      "Job_Title     0\n",
      "Age           0\n",
      "Gender        0\n",
      "Salary        0\n",
      "dtype: int64\n"
     ]
    }
   ],
   "source": [
    "import pandas as pd\n",
    "import numpy as np\n",
    "import matplotlib.pyplot as plt\n",
    "from sklearn.ensemble import RandomForestRegressor\n",
    "from sklearn.preprocessing import LabelEncoder\n",
    "\n",
    "# Cargar los datos\n",
    "data = pd.read_csv('dataset/salary_prediction_data.csv')\n",
    "\n",
    "# Mostrar los primeros registros\n",
    "print(data.head())\n",
    "\n",
    "# Mostrar tamaño del dataset\n",
    "print(data.shape)\n",
    "\n",
    "#Revisar datos nulos\n",
    "print(data.isnull().sum())"
   ]
  },
  {
   "cell_type": "code",
   "execution_count": 5,
   "metadata": {},
   "outputs": [],
   "source": [
    "# Codificar variables categóricas\n",
    "codificadores_etiquetas = {}\n",
    "columnas_categorias = ['Education', 'Location', 'Job_Title', 'Gender']\n",
    "for column in columnas_categorias:\n",
    "    codificadores_etiquetas[column] = LabelEncoder()\n",
    "    data[column] = codificadores_etiquetas[column].fit_transform(data[column])"
   ]
  }
 ],
 "metadata": {
  "kernelspec": {
   "display_name": "Python 3",
   "language": "python",
   "name": "python3"
  },
  "language_info": {
   "codemirror_mode": {
    "name": "ipython",
    "version": 3
   },
   "file_extension": ".py",
   "mimetype": "text/x-python",
   "name": "python",
   "nbconvert_exporter": "python",
   "pygments_lexer": "ipython3",
   "version": "3.12.2"
  }
 },
 "nbformat": 4,
 "nbformat_minor": 2
}
